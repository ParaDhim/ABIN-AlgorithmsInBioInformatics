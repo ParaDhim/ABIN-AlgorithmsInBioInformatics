{
  "nbformat": 4,
  "nbformat_minor": 0,
  "metadata": {
    "colab": {
      "provenance": []
    },
    "kernelspec": {
      "name": "python3",
      "display_name": "Python 3"
    },
    "language_info": {
      "name": "python"
    }
  },
  "cells": [
    {
      "cell_type": "markdown",
      "metadata": {
        "id": "OpvaysSpW9hd"
      },
      "source": [
        "\n",
        "\n",
        "---\n",
        "#ABIN - Assignment 2\n",
        "##  **Group-16**\n",
        "\n",
        "\n",
        "\n",
        "---\n",
        "\n"
      ]
    },
    {
      "cell_type": "code",
      "source": [
        "!pip install biopython"
      ],
      "metadata": {
        "id": "fXhPPSm06NQV"
      },
      "execution_count": null,
      "outputs": []
    },
    {
      "cell_type": "code",
      "source": [
        "from Bio import Entrez\n",
        "\n",
        "# Define a list of accession numbers or relevant identifiers.\n",
        "accession_numbers = [\"LR721773.1\", \"GMB10646.1\", \"MBQ2671914.1\"]\n",
        "\n",
        "# Define a list of file names corresponding to the sequences.\n",
        "sequence_file_names = [\"q1\", \"q2_1\", \"q2_2\"]\n",
        "\n",
        "try:\n",
        "    # Fetch the sequence from NCBI\n",
        "    handle = Entrez.efetch(db=\"nucleotide\", id=accession_numbers[0], rettype=\"fasta\", retmode=\"text\")\n",
        "    fasta_data = handle.read()\n",
        "    handle.close()\n",
        "\n",
        "    # Save the FASTA data to a file\n",
        "    with open(f\"{sequence_file_names[0]}.fasta\", \"w\") as fasta_file:\n",
        "        fasta_file.write(fasta_data)\n",
        "\n",
        "    print(f\"FASTA file saved as {sequence_file_names[0]}.fasta\")\n",
        "\n",
        "except Exception as e:\n",
        "    print(f\"An error occurred: {str(e)}\")\n",
        "\n",
        "for i in range(1,len(accession_numbers)):\n",
        "  try:\n",
        "      handle = Entrez.efetch(db=\"protein\", id=accession_numbers[i], rettype=\"fasta\", retmode=\"text\")\n",
        "      fasta_data = handle.read()\n",
        "      handle.close()\n",
        "\n",
        "      # Save the FASTA data to a file\n",
        "      with open(f\"{sequence_file_names[i]}.fasta\", \"w\") as fasta_file:\n",
        "          fasta_file.write(fasta_data)\n",
        "\n",
        "      print(f\"FASTA file saved as {sequence_file_names[i]}.fasta\")\n",
        "\n",
        "  except Exception as e:\n",
        "      print(f\"An error occurred: {str(e)}\")\n"
      ],
      "metadata": {
        "id": "Z33d3dsR6P3e"
      },
      "execution_count": null,
      "outputs": []
    },
    {
      "cell_type": "markdown",
      "source": [
        "#Fetching FASTA files\n",
        "\n",
        "This code uses the Biopython library to fetch sequence data (nucleotide and protein sequences) from the NCBI (National Center for Biotechnology Information) database and save it to FASTA files with specified names.\n",
        "\n",
        "Here, we have saved three sequences:\n",
        "\n",
        "### For Q1 : Nucleotide sequence\n",
        "\n",
        "Accession Number - LR721773.1 (967 bps)\n",
        "\n",
        "### For Q2, Q3 : Protein sequences\n",
        "\n",
        "Accession Numbers - GMB10646.1 (1000 aa), MBQ2671914.1 (984 aa)\n",
        "\n",
        "### Methods and arguments:\n",
        "**Entrez.efetch():** This function is used to retrieve data from the NCBI database. In this case, it fetches a nucleotide sequence (db=\"nucleotide\") with the specified accession number (id=accession_numbers[0]).\n",
        "\n",
        "It requests the data in FASTA format (rettype=\"fasta\") and text mode (retmode=\"text\").\n",
        "\n",
        "handle.read(): Reads the fetched data from the handle.\n",
        "\n",
        "handle.close(): Closes the connection to the NCBI database.\n",
        "\n",
        "The fetched FASTA data is saved to a file with the name \"q1.fasta\"."
      ],
      "metadata": {
        "id": "ftpvuch2CtMB"
      }
    },
    {
      "cell_type": "code",
      "source": [
        "# Define the filenames for the Fasta file\n",
        "fasta_file = \"q1.fasta\"\n",
        "\n",
        "# Function to read a Fasta file and extract the sequence\n",
        "def get_seq(filename):\n",
        "    sequence = \"\"\n",
        "    with open(filename, 'r') as file:\n",
        "        for line in file:\n",
        "            if line.startswith(\">\"):  # Header line, skip it\n",
        "                continue\n",
        "            sequence += line.strip()  # Concatenate sequence lines\n",
        "    return sequence\n",
        "\n",
        "\n",
        "get_seq(fasta_file)"
      ],
      "metadata": {
        "id": "u4QP1Buz0KxK",
        "colab": {
          "base_uri": "https://localhost:8080/",
          "height": 91
        },
        "outputId": "c9d55c12-1910-40fb-f011-1560baa03ee0"
      },
      "execution_count": 33,
      "outputs": [
        {
          "output_type": "execute_result",
          "data": {
            "text/plain": [
              "'AAATGTTTATGGCTGATGCTTATTTTGCAGACACTGTGTGGTATGTGGGGCAAATAATTTTTATAGTTGCCATTTGTTCATTGGTTATAATAGTTGTAGTGGCATTTTTGGCAACTTTTAAATTGTGTATTCAACTTTGCGGTATGTGTAATACCTTAGTACTGTCCCCTTCTATTTATGTGTTTAATAGAGGTAGGCAGTTTTATGAGTTTTACAATGATGTAAAACCACCAGTTCTTGATGTGGATGACGTTTAGTTAATCCAAACATTATGAGTAGTATAACTACACCAGCACCAATTTTTACCTGGACTTCTGATGAAGCTATTAAATTCCTAAAGGAATGGAATTTTTCTTTGGGTATTATACTACTTTTTATTACAATCATATTGCAATTTGGATATACAAGCCGCAGTATGTTTGTTTATGTTATTAAGATGATCATTTTGTGGCTTATGTGGCCCCTTACTATCATCTTAACTATTTTCAATTGCGTGTATGCGTTGAATAATGTGTATCTTGGCTTTTCTATAGTTTTTACCATAGTGGCCATTATCATGTGGATTGTGTATTTTGTGAATAGTATCAGGTTGTTTATTAGAACTGGAAGTTGGTGGAGTTTCAACCCAGAAACAAACAACTTGATGTGTATAGATATGAAGGGAAGGATGTATGTTAGGCCGATAATTGAGGACTATCATACCCTTACGGTCACAATAATACGTGGTCATCTTTATATGCAAGGTATAAAACTAGGTACTGGCTATTCTTTGTCAGATTTGCCAGCTTATGTGACTGTTGCTAAGGTTTCACACCTGCTCACGTATAAGCGTGGTTTTCTTGACAGGATAGGCGATACTAGTGGTTTTGCTGTTTATGTTAAGTCCAAAGTCGGTAATTACCGACTGCCATCAACCCAAAAGGGTTCAGGCATGGACACCGCATTGTTGAGAAATAATATCTAAACT'"
            ],
            "application/vnd.google.colaboratory.intrinsic+json": {
              "type": "string"
            }
          },
          "metadata": {},
          "execution_count": 33
        }
      ]
    },
    {
      "cell_type": "markdown",
      "source": [
        "# Reading DNA Sequence from a FASTA File\n",
        "In this code cell, we have a function get_seq that reads a DNA sequence from a FASTA file. Here's what the code does:\n",
        "\n",
        "* It takes the filename of a FASTA file as input.\n",
        "* It initializes an empty string called sequence to store the DNA sequence.\n",
        "* The code reads the file line by line and skips the header line (lines starting with \">\").\n",
        "* The non-header lines (sequence lines) are concatenated to form the complete DNA sequence.\n",
        "* Finally, the get_seq function returns the extracted DNA sequence.\n",
        "You can call this function with the appropriate filename to obtain the DNA sequence from a FASTA file."
      ],
      "metadata": {
        "id": "N7kVjo14FZGM"
      }
    },
    {
      "cell_type": "code",
      "source": [
        "fasta_files = [get_seq(f'{i}.fasta') for i in sequence_file_names]\n",
        "\n",
        "for i in fasta_files:\n",
        "  print(f\"Sequence {fasta_files.index(i)+1} : {i}\")\n",
        "  print()"
      ],
      "metadata": {
        "id": "xEfDBkH-4y-W",
        "colab": {
          "base_uri": "https://localhost:8080/",
          "height": 0
        },
        "outputId": "4a3e020b-1a3b-4688-c2c1-3df6248e0259"
      },
      "execution_count": 34,
      "outputs": [
        {
          "output_type": "stream",
          "name": "stdout",
          "text": [
            "Sequence 1 : AAATGTTTATGGCTGATGCTTATTTTGCAGACACTGTGTGGTATGTGGGGCAAATAATTTTTATAGTTGCCATTTGTTCATTGGTTATAATAGTTGTAGTGGCATTTTTGGCAACTTTTAAATTGTGTATTCAACTTTGCGGTATGTGTAATACCTTAGTACTGTCCCCTTCTATTTATGTGTTTAATAGAGGTAGGCAGTTTTATGAGTTTTACAATGATGTAAAACCACCAGTTCTTGATGTGGATGACGTTTAGTTAATCCAAACATTATGAGTAGTATAACTACACCAGCACCAATTTTTACCTGGACTTCTGATGAAGCTATTAAATTCCTAAAGGAATGGAATTTTTCTTTGGGTATTATACTACTTTTTATTACAATCATATTGCAATTTGGATATACAAGCCGCAGTATGTTTGTTTATGTTATTAAGATGATCATTTTGTGGCTTATGTGGCCCCTTACTATCATCTTAACTATTTTCAATTGCGTGTATGCGTTGAATAATGTGTATCTTGGCTTTTCTATAGTTTTTACCATAGTGGCCATTATCATGTGGATTGTGTATTTTGTGAATAGTATCAGGTTGTTTATTAGAACTGGAAGTTGGTGGAGTTTCAACCCAGAAACAAACAACTTGATGTGTATAGATATGAAGGGAAGGATGTATGTTAGGCCGATAATTGAGGACTATCATACCCTTACGGTCACAATAATACGTGGTCATCTTTATATGCAAGGTATAAAACTAGGTACTGGCTATTCTTTGTCAGATTTGCCAGCTTATGTGACTGTTGCTAAGGTTTCACACCTGCTCACGTATAAGCGTGGTTTTCTTGACAGGATAGGCGATACTAGTGGTTTTGCTGTTTATGTTAAGTCCAAAGTCGGTAATTACCGACTGCCATCAACCCAAAAGGGTTCAGGCATGGACACCGCATTGTTGAGAAATAATATCTAAACT\n",
            "\n",
            "Sequence 2 : MKFKKNIAFLLVILNIFICSFKPEVSAIRKIKNITLFNQVCSIPKEAHGFISTKQLQYKNTQVFHYIHAKSGANLVFQKNNNINKVIEFNFKTPPKDNTGVNHVLEHSLLEANQRYPGFFKLHDSAFSTKLNACTSLTNTFYTVSSLDEDEANSLAKIYMSYIFEPSILNNDKAFKQEGIRFELDENGKLKANGIVFNEVNDSSYLELMKRLEFFYPDTQTKFFSGGISSELMDLTYEEFLDTYKKFYHPANCLITITGNLNIEKTLKWLSEDYLNNFEKQDFNAENVKFIEQNPVKTEDNNYKVIDLYRASGDINWCDVWYILNRDLPVYSLASYETLSNIISDPNSERNKKLRDDGWTDIQSDVYNFCFYEPVFHVVLSTNNSKLLTKENIKKTIDEILYTPFTTAVIDKYLDNDDFLSEIKKKTLIYDESIKNDYLRYSWLRSNDPISNKIFNITGDKLDLNYDKDTVHQMLGSVEKILPKERHAILVSNYKDDFSLSDEYRIREKLNKLEDKKNEIIIEKQIPEHKTASSFGSMLKKISDLDIQKLSCNVIEKTVNNKKCHFALEDISDLIVCELMFKINNLSDEDIKYMYLLLEIFNSNDSSDCTRSEIENMKSQNIITFFGLDATTNIKSEQNAFANMGFITTKEKLEQAFFLMNTQTFNIKFDNKDTIKKWVTQILNNINENKSQFNYSQFINSQKLNSQSFLCRFNTEEITFFLKSILENINDEKFLSYLTKKLEQTFNNLFNKTTLESFAVICAQENCDEVSNSIEKFINSLDDVPENIYKIIKEKNNKPLELPNKFKHKKIAIINKNFDANKVAMYLDINCKDHSAELECLCEYITDYFLYKEIRVNNGVYHTHMRYNVFDNNIEIKMQNGQNLKETLKTFGEIMNFLKTNEITQEAIEGISKKKLSSSFITSKLAISSQVLGSKICQGLNFCDYLNNHIESFKHMTVEKIKSVIPILEAAFNQPTVGALFTQITDNDKELFDEIIDDNR\n",
            "\n",
            "Sequence 3 : MFKKPISRIIALVLTSLLTFNVLPLAKEAPKSQISVQNIGETVCGFKLEKKLNYNGTEVCYFIHEKSGAHAVVEKNSNKEKSFQIGFRTPAENDKGINHIIEHSVLNGSENYPYKNIMFELDNLSKTSTYLNAYTGSTCTCYPVSNLSENELESLAKIYTDGIFKPNFLTNEKIFKKEGIRYELDENGNLTANGTVFNEMNGESANIMPQLLKRIFPNTSSKNYYGGIPDQIMDLKYEEICETYKKYYHPSNCLIYLSGDINYERFFKWLDEDYLSTYDAKDMSYIKYEYQNPNNLPSYEKIDVYSSDCSNSLVEIDYFLPWDFYNDNYFTIKNLVNTINSEAEISKYVKEKGYKNVNSNFSSFFSTPFLSFVFEAPTENKKLFEQEFVNGTLKEILSMISSPKIISNQEKNIKKYEFNQEMKKAFENTSNSIIGHKDFMESFVRFNDPISNKFFDINKNNIAYKSSNKTMQDLVKDIYNLKPITTFLNCSSDTSLSMAKKIKNKCKSLENEKEELTKNYKEQQNWANAPNNASDINKLKSMFTGYNDVSMPENISEFDKNKILNKDCYYCPEEKLGDFFQIKYAFKVNYLTDEDKKYLPFLNNYLSVIKKENLDHLSSINFNNEKVLTNSSDNLKNDYAILTVTTKNQNLAQVTEEFNKILSFKNPLDTDSIKELAQDFIDEYKSSYGIKMLKLNIIEKHSVDLKEAEEILENQYNFCQEIINNINSESYAQDFSKKLNNLFGKIFNVNSLQSVGILSSLKNEKTCQDTAYSFINSLNKEPIPDNSPHEFKKLNKSIAVIDKKFANNHIFGDLFCPELSNDSRFNCLLDSIRVFFNFNIREKGGAYATNIYTANNGYIEMLSKWDPNVDSTIEFFNSVPKFLQSHNFKKEDIENMYTKKLISICNRNKLSFVNEKMRGLMLFGDECPDYQKLLEKNLENIKTMNTEDIKALGKTLEKYIPEMKIIAFTNSLKNVKTKFDIVIS\n",
            "\n"
          ]
        }
      ]
    },
    {
      "cell_type": "markdown",
      "source": [
        "# Question 1"
      ],
      "metadata": {
        "id": "FTx5xAA2mCSv"
      }
    },
    {
      "cell_type": "code",
      "execution_count": null,
      "metadata": {
        "colab": {
          "base_uri": "https://localhost:8080/"
        },
        "id": "x_jBOlSC2mvf",
        "outputId": "557f13d5-bb6a-4081-d0e7-34ed17aecf68"
      },
      "outputs": [
        {
          "output_type": "stream",
          "name": "stdout",
          "text": [
            "K-mer: AAA, Count: 17\n",
            "K-mer: AAT, Count: 25\n",
            "K-mer: ATG, Count: 29\n",
            "K-mer: TGT, Count: 38\n",
            "K-mer: GTT, Count: 29\n",
            "K-mer: TTT, Count: 55\n",
            "K-mer: TTA, Count: 35\n",
            "K-mer: TAT, Count: 43\n",
            "K-mer: TGG, Count: 24\n",
            "K-mer: GGC, Count: 13\n",
            "K-mer: GCT, Count: 10\n",
            "K-mer: CTG, Count: 11\n",
            "K-mer: TGA, Count: 17\n",
            "K-mer: GAT, Count: 16\n",
            "K-mer: TGC, Count: 13\n",
            "K-mer: CTT, Count: 20\n",
            "K-mer: ATT, Count: 30\n",
            "K-mer: TTG, Count: 30\n",
            "K-mer: GCA, Count: 11\n",
            "K-mer: CAG, Count: 11\n",
            "K-mer: AGA, Count: 8\n",
            "K-mer: GAC, Count: 8\n",
            "K-mer: ACA, Count: 12\n",
            "K-mer: CAC, Count: 9\n",
            "K-mer: ACT, Count: 19\n",
            "K-mer: GTG, Count: 22\n",
            "K-mer: GGT, Count: 16\n",
            "K-mer: GTA, Count: 22\n",
            "K-mer: GGG, Count: 5\n",
            "K-mer: CAA, Count: 18\n",
            "K-mer: ATA, Count: 28\n",
            "K-mer: TAA, Count: 22\n",
            "K-mer: TAG, Count: 17\n",
            "K-mer: AGT, Count: 19\n",
            "K-mer: GCC, Count: 7\n",
            "K-mer: CCA, Count: 13\n",
            "K-mer: CAT, Count: 15\n",
            "K-mer: TTC, Count: 14\n",
            "K-mer: TCA, Count: 17\n",
            "K-mer: AAC, Count: 14\n",
            "K-mer: GCG, Count: 5\n",
            "K-mer: CGG, Count: 3\n",
            "K-mer: TAC, Count: 17\n",
            "K-mer: ACC, Count: 13\n",
            "K-mer: CCT, Count: 7\n",
            "K-mer: GTC, Count: 6\n",
            "K-mer: TCC, Count: 4\n",
            "K-mer: CCC, Count: 7\n",
            "K-mer: TCT, Count: 11\n",
            "K-mer: CTA, Count: 14\n",
            "K-mer: GAG, Count: 6\n",
            "K-mer: AGG, Count: 15\n",
            "K-mer: GGA, Count: 13\n",
            "K-mer: ACG, Count: 4\n",
            "K-mer: CGT, Count: 6\n",
            "K-mer: ATC, Count: 12\n",
            "K-mer: AGC, Count: 5\n",
            "K-mer: GAA, Count: 11\n",
            "K-mer: AAG, Count: 13\n",
            "K-mer: CCG, Count: 4\n",
            "K-mer: CGC, Count: 2\n",
            "K-mer: CGA, Count: 3\n",
            "K-mer: CTC, Count: 1\n",
            "K-mer: TCG, Count: 1\n",
            "Total kmers:  965\n"
          ]
        }
      ],
      "source": [
        "from collections import defaultdict\n",
        "\n",
        "def count_kmers(fasta_file, k):\n",
        "    # Initialize a dictionary to store k-mer counts\n",
        "    kmer_counts = defaultdict(int)\n",
        "\n",
        "    sequence = get_seq(fasta_file)\n",
        "\n",
        "        # Process the last sequence in the file\n",
        "    for i in range(len(sequence) - k + 1):\n",
        "        kmer = sequence[i:i + k]\n",
        "        kmer_counts[kmer] += 1\n",
        "\n",
        "    return kmer_counts\n",
        "\n",
        "# Example usage:\n",
        "k = 3  # Replace with the desired k-mer length\n",
        "\n",
        "fasta_file = 'q1.fasta'\n",
        "\n",
        "kmer_counts = count_kmers(fasta_file, k)\n",
        "\n",
        "total_kmers = 0\n",
        "\n",
        "# Print the k-mer counts\n",
        "for kmer, count in kmer_counts.items():\n",
        "    print(f'K-mer: {kmer}, Count: {count}')\n",
        "    total_kmers += count\n",
        "\n",
        "print('Total kmers: ',total_kmers)\n"
      ]
    },
    {
      "cell_type": "markdown",
      "source": [
        "we define a function count_kmers that takes a FASTA file and a k-mer length 'k' as input. The function initializes a dictionary to store k-mer counts and then processes the sequences within the FASTA file to count k-mers. The code also demonstrates how to use this function to count k-mers for a specific k-mer length ('k').\n",
        "\n",
        "we have also provided an example of how to use the count_kmers function to count 3-mers within the DNA sequence from the FASTA file. The code then prints the counts of each 3-mer and calculates the total count of all 3-mers in the sequence."
      ],
      "metadata": {
        "id": "5cgXpjejC_bj"
      }
    },
    {
      "cell_type": "markdown",
      "source": [
        "\n",
        "\n",
        "---\n",
        "\n"
      ],
      "metadata": {
        "id": "1dhZd6MmMXgV"
      }
    },
    {
      "cell_type": "markdown",
      "source": [
        "# Question 2"
      ],
      "metadata": {
        "id": "-AsSaYP1mH6T"
      }
    },
    {
      "cell_type": "code",
      "source": [
        "def preprocess(seq1, seq2):\n",
        "    '''\n",
        "    Initialises the 2d dp array for the tabulation base case\n",
        "    '''\n",
        "    dp = [[0]*(len(seq2)+1) for i in range(len(seq1)+1)] #initialise a 2d list which will store the global alignment values\n",
        "    dp[0][0] = 0 #base case when both sequence end\n",
        "    for x in range(1, len(seq1)+1): #base case when sequence 2 ends first and gaps need to be filled for sequence 1\n",
        "        dp[x][0] = 1 + dp[x-1][0]\n",
        "    for y in range(1, len(seq2)+1):#base case when sequence 1 ends first and gaps need to be filled for sequence 2\n",
        "        dp[0][y] = 1 + dp[0][y-1]\n",
        "    return dp\n",
        "\n",
        "#example\n",
        "seq1 = \"PLEASANTLY\" # sequence 1 hard coded\n",
        "seq2 = \"MEANLY\"   # sequence 1 hard coded\n",
        "preprocess (seq1, seq2)"
      ],
      "metadata": {
        "colab": {
          "base_uri": "https://localhost:8080/",
          "height": 0
        },
        "id": "6UT4k8kMuugT",
        "outputId": "a75a22b3-1bfb-4f84-a1df-01ede07f139f"
      },
      "execution_count": 36,
      "outputs": [
        {
          "output_type": "execute_result",
          "data": {
            "text/plain": [
              "[[0, 1, 2, 3, 4, 5, 6],\n",
              " [1, 0, 0, 0, 0, 0, 0],\n",
              " [2, 0, 0, 0, 0, 0, 0],\n",
              " [3, 0, 0, 0, 0, 0, 0],\n",
              " [4, 0, 0, 0, 0, 0, 0],\n",
              " [5, 0, 0, 0, 0, 0, 0],\n",
              " [6, 0, 0, 0, 0, 0, 0],\n",
              " [7, 0, 0, 0, 0, 0, 0],\n",
              " [8, 0, 0, 0, 0, 0, 0],\n",
              " [9, 0, 0, 0, 0, 0, 0],\n",
              " [10, 0, 0, 0, 0, 0, 0]]"
            ]
          },
          "metadata": {},
          "execution_count": 36
        }
      ]
    },
    {
      "cell_type": "markdown",
      "source": [
        "# Preprocessing Sequences\n",
        "we have a function preprocess that initializes a 2D dynamic programming (DP) array dp. This array is used for global sequence alignment, which is a part of sequence comparison algorithms. Here's what the code does:\n",
        "\n",
        "*   seq1 and seq2 are the input sequences for which we want to compute the edit distance.\n",
        "\n",
        "*   The dp array is initialized as a 2D list with dimensions (len(seq1) + 1) x (len(seq2) + 1). This array will store alignment values.\n",
        "*   Base cases are set in the dp array:\n",
        "  *   dp[0][0] = 0 represents the case when both sequences are empty, and no operations are required.\n",
        "  *   The code then fills the DP array to handle cases when one sequence ends before the other, requiring gap insertions or deletions.\n",
        "*   The preprocess function returns the initialized DP array.\n",
        "\n",
        "\n",
        "\n",
        "\n",
        "\n",
        "\n"
      ],
      "metadata": {
        "id": "72ANzogYD0jg"
      }
    },
    {
      "cell_type": "code",
      "source": [
        "def edit_distance(seq1, seq2):\n",
        "    '''\n",
        "    Given two strings seq1 and seq2,\n",
        "    the function returns the minimum number of operations(insertions, deletion and replacements)\n",
        "    required to convert seq1 to seq2.\n",
        "    '''\n",
        "    dp = preprocess(seq1, seq2)\n",
        "    for x in range(1, len(dp)):\n",
        "        for y in range(1, len(dp[0])):\n",
        "            if(seq1[x-1] == seq2[y-1]):# charecters match\n",
        "                dp[x][y] = dp[x - 1][y - 1]\n",
        "                # index filled by match value, as match is always prioritised over gaps\n",
        "\n",
        "            else:# chareters do not match\n",
        "                dp[x][y] = 1+min(dp[x - 1][y - 1],\n",
        "                                  dp[x][y - 1],\n",
        "                                  dp[x - 1][y])\n",
        "                # selects between mismatch, gap in sequence 1 and gap in sequence 2 and selects the maximum value among the three\n",
        "    return dp[-1][-1]\n",
        "\n",
        "#example\n",
        "seq1 = \"PLEASANTLY\" # sequence 1 hard coded\n",
        "seq2 = \"MEANLY\"   # sequence 1 hard coded\n",
        "edit_distance(seq1, seq2)"
      ],
      "metadata": {
        "colab": {
          "base_uri": "https://localhost:8080/",
          "height": 0
        },
        "id": "shuDVs8-mOG8",
        "outputId": "6533dd17-ee2c-4139-d4c1-92e03d0e549c"
      },
      "execution_count": 37,
      "outputs": [
        {
          "output_type": "execute_result",
          "data": {
            "text/plain": [
              "5"
            ]
          },
          "metadata": {},
          "execution_count": 37
        }
      ]
    },
    {
      "cell_type": "markdown",
      "source": [
        "# Calculating Edit Distance\n",
        "we define a function edit_distance that calculates the edit distance between two input sequences, seq1 and seq2. Here's what the code does:\n",
        "\n",
        "* The edit_distance function calls the preprocess function to initialize the DP array.\n",
        "* It then iterates through the DP array, filling in values based on character matches or mismatches and gap insertions or deletions.\n",
        "* If characters match, the value is filled from the diagonal (indicating a match operation).\n",
        "* If characters do not match, the code selects the minimum value among three options: mismatch, gap insertion in seq1, or gap insertion in seq2.\n",
        "* Finally, the function returns the edit distance, which is the value stored in the bottom-right cell of the DP array."
      ],
      "metadata": {
        "id": "eWPkLTbMFHkl"
      }
    },
    {
      "cell_type": "code",
      "source": [
        "#actual protein fasta sequences of length 1000 aa\n",
        "\n",
        "seq1 = get_seq('q2_1.fasta')\n",
        "seq2 = get_seq('q2_2.fasta')\n",
        "\n",
        "print(edit_distance(seq1,seq2))"
      ],
      "metadata": {
        "colab": {
          "base_uri": "https://localhost:8080/",
          "height": 0
        },
        "id": "6S7HH1aFEUUU",
        "outputId": "8ba389c1-62d7-45f0-fd27-d80933e6496b"
      },
      "execution_count": 38,
      "outputs": [
        {
          "output_type": "stream",
          "name": "stdout",
          "text": [
            "692\n"
          ]
        }
      ]
    },
    {
      "cell_type": "markdown",
      "source": [
        "\n",
        "\n",
        "---\n",
        "\n"
      ],
      "metadata": {
        "id": "N0nGKE3pMVyR"
      }
    },
    {
      "cell_type": "markdown",
      "source": [
        "# Question 3"
      ],
      "metadata": {
        "id": "aNkauJOCBVfv"
      }
    },
    {
      "cell_type": "code",
      "source": [
        "def calculate_alignment(s, t):\n",
        "    # Lengths of the input strings\n",
        "    m, n = len(s), len(t)\n",
        "\n",
        "    # Create a matrix to store edit distances\n",
        "    dp = [[0] * (n + 1) for _ in range(m + 1)]\n",
        "\n",
        "    # Initialize the first row and column\n",
        "    for i in range(m + 1):\n",
        "        dp[i][0] = i * -2  # Gap penalty for string s\n",
        "    for j in range(n + 1):\n",
        "        dp[0][j] = j * -2  # Gap penalty for string t\n",
        "\n",
        "    # Fill in the matrix using dynamic programming\n",
        "    for i in range(1, m + 1):\n",
        "        for j in range(1, n + 1):\n",
        "            match = dp[i - 1][j - 1] + (1 if s[i - 1] == t[j - 1] else -1)  # Match or mismatch score\n",
        "            delete = dp[i - 1][j] - 2  # Gap in string s\n",
        "            insert = dp[i][j - 1] - 2  # Gap in string t\n",
        "            dp[i][j] = max(match, delete, insert)\n",
        "\n",
        "    # The final value in the matrix represents the edit distance\n",
        "    edit_distance = dp[m][n]\n",
        "\n",
        "    # Backtrack to find the optimal alignment (s' and t')\n",
        "    s_aligned, t_aligned = \"\", \"\"\n",
        "    i, j = m, n\n",
        "    while i > 0 or j > 0:\n",
        "        if i > 0 and dp[i][j] == dp[i - 1][j] - 2:\n",
        "            s_aligned = s[i - 1] + s_aligned\n",
        "            t_aligned = \"-\" + t_aligned\n",
        "            i -= 1\n",
        "        elif j > 0 and dp[i][j] == dp[i][j - 1] - 2:\n",
        "            s_aligned = \"-\" + s_aligned\n",
        "            t_aligned = t[j - 1] + t_aligned\n",
        "            j -= 1\n",
        "        else:\n",
        "            s_aligned = s[i - 1] + s_aligned\n",
        "            t_aligned = t[j - 1] + t_aligned\n",
        "            i -= 1\n",
        "            j -= 1\n",
        "\n",
        "    return edit_distance, s_aligned, t_aligned\n",
        "\n",
        "# Example usage:\n",
        "s = \"PRETTY\"\n",
        "t = \"PRTTEIN\"\n",
        "edit_distance, s_aligned, t_aligned = calculate_alignment(s, t)\n",
        "print(f\"Edit Distance: {edit_distance}\")\n",
        "print(s_aligned)\n",
        "print(t_aligned)\n",
        "\n",
        "print() #gap\n",
        "\n",
        "# Input protein strings\n",
        "s = get_seq('q2_1.fasta')\n",
        "t = get_seq('q2_2.fasta')\n",
        "\n",
        "# Calculate edit distance and obtain optimal alignment\n",
        "edit_distance, s_aligned, t_aligned = calculate_alignment(s, t)\n",
        "\n",
        "# Print the results\n",
        "print(f\"Edit Distance: {edit_distance}\")\n",
        "print(s_aligned)\n",
        "print(t_aligned)"
      ],
      "metadata": {
        "colab": {
          "base_uri": "https://localhost:8080/",
          "height": 0
        },
        "id": "nqFnBPgQEP-I",
        "outputId": "4c33834d-ef24-4144-f8cc-00f37ee82ebd"
      },
      "execution_count": 40,
      "outputs": [
        {
          "output_type": "stream",
          "name": "stdout",
          "text": [
            "Edit Distance: -2\n",
            "PRETTY-\n",
            "PRTTEIN\n",
            "\n",
            "Edit Distance: -440\n",
            "MKFKKNIAFL--LVILNIFICSFKPEVSAIRKIKNITLFNQVCSIPKEAHGFISTKQLQYKNTQVFHYIHAKSGANLVFQKNNNINKVIEFNFKTPPKDNTGVNHVLEHSLLEANQRYPGF---FKLHD-SAFSTKLNACTSLTNTFYTVSSLDEDEANSLAKIYMSYIFEPSILNNDKAFKQEGIRFELDENGKLKANGIVFNEVNDSSYLELMKRLEFFYPDTQTKFFSGGISSELMDLTYEEFLDTYKKFYHPANCLITITGNLNIEKTLKWLSEDYLNNFEKQDFNAENVKFIEQNPVKTEDNNYKVIDLYRASGDINWCDVW-YILNRDLPVYSLASYETLSNIISDPNSERNK-KLRDD-GWTDIQSDVYNFCFYEPVFHVVLS--TNNSKLLTKENIKKTIDEILYTPFTTAVIDKYLDNDD---FLSEIKKKTLIYDESIKNDYLRY-SWLRSNDPISNKIFNITGDKLDLNYDKDTVHQMLGSVEKILP-KERHAILVSNYKDDFSLSDEYRIREKLNKLEDKKNEIIIE-KQIPEHKTASSFGSMLKKI-SDLDIQKL-SCNV-I-EKTVN---NKKCHFALEDIS-DLIVCELMFKINNLSDEDIKYMYLLLEIFNSNDSSDCTRSEIENMKSQNIITFFGLDATTNIKSEQNAFANMGFITTKEKLEQAFFLMNTQTFN-IK-FDNK-DTIK-KWVTQILNNINENKSQFNYSQFI-NSQKLNSQSFLCRFNTEEITF-FLKSILENINDEKFLSYLTKKLEQTFNNLFNKTTLESFAVICAQENCDEVSNSIEKFINSLDDVPENIYKIIKEKNNKPLELPNKFKHKKIAIINKNFDANKVAMYLDINCKDHSAELE--CLCEYITDYFLYKEIRVNNGVYHTHMRYNVFDNNIEIKMQNGQNLKETLKTFGEIMNFLKTNEITQEAIEGISKKKLSSSFITSKLAISSQVLGSKICQGLNFCDY--LNNHI-ESFKHMTVEKIKSVIPILEAAFNQPTVGALFTQITDNDKELFDEIIDDNR\n",
            "M-FKKPISRIIALV-LTSLLT-FNVLPLAKEAPKSQISV-QN--IGETVCGFKLEKKLNYNGTEVCYFIHEKSGAHAVVEKNSNKEKSFQIGFRTPAENDKGINHIIEHSVLNGSENYPYKNIMFELDNLSKTSTYLNAYTGSTCTCYPVSNLSENELESLAKIYTDGIFKPNFLTNEKIFKKEGIRYELDENGNLTANGTVFNEMNGESANIMPQLLKRIFPNTSSKNYYGGIPDQIMDLKYEEICETYKKYYHPSNCLIYLSGDINYERFFKWLDEDYLSTYDAKDMSYI--KYEYQNPNNLPSYE-K-IDVYS-SDCSNSLVEIDYFLPWDF--YNDN-YFTIKNLVNTINSEAEISKYVKEKGYKNVNSNFSSF-FSTPFLSFVFEAPTENKKLFEQEFVNGTLKEILSMISSPKIISNQEKNIKKYEFNQEMKKAFENTSNSIIGHKDFMESFVRFNDPISNKFFDIN--KNNIAY-KSSNKTMQDLVKDIYNLKPITTFL--NCSSDTSLSMAKKIKNKCKSLENEKEELTKNYKEQQNWANAPNNASDINKLKSMFTGYNDVSMPENISEFDKNKILNKDCYYCPEEKLGDFFQIKYAFKVNYLTDEDKKYLPFL----N-NYLSVIKK-ENLDHLSS-IN-FNNEKVLTNS-SD-NLK-NDYAILTVTTKNQNLAQV-TEEFNKILSFKNPLDTDSIKELAQDF--IDEYKSSYGIKMLKLNIIEKHSVDLKEAEEILENQYNFCQEIINNINSESYAQDFSKKLNNLFGKIFNVNSLQSVGILSSLKNEKTCQDTAYSFINSLNKEP--IPD-----NS-PHEFK-KLN-KSIAVIDKKF-ANNHIFG-DLFCPELSNDSRFNCLLDSIRVFFNFN-IREKGGAYATNI-YTANNGYIEMLSKWDPNVDSTIEFFNSVPKFLQSHNFKKEDIENMYTKKLISICNRNKLSFVNEKMRGLMLFGDECPDYQKLLEKNLENIKTMNTEDIKALGKTLEKYIPEMKIIA-FTNSLKNVKTKFDIVIS---\n"
          ]
        }
      ]
    },
    {
      "cell_type": "markdown",
      "source": [
        "We have written a Python function called calculate_alignment that computes the edit distance between two strings, s and t, using dynamic programming. The edit distance quantifies the minimum number of operations (insertions, deletions, substitutions) needed to transform one string into the other. Additionally, our code generates an optimal alignment of these two strings.\n",
        "\n",
        "Here's how our code operates:\n",
        "\n",
        "* Initially, we calculate the lengths of the input strings s and t and store these lengths in m and n, respectively.\n",
        "\n",
        "* To keep track of the edit distances for different substrings of s and t, we create a matrix called dp.\n",
        "\n",
        "* We set up the first row and column of the matrix to represent gap penalties for string s and string t, respectively.\n",
        "\n",
        "* The heart of our algorithm lies in dynamic programming. We fill in the dp matrix by considering match scores, mismatch penalties, and gap penalties.\n",
        "\n",
        "* The value in the last cell of the matrix, dp[m][n], signifies the edit distance between the entire strings s and t.\n",
        "\n",
        "* To discover the optimal alignment, we engage in backtracking, commencing from the bottom-right corner of the matrix. Depending on whether the value in the current cell originated from a match, deletion, or insertion, we construct the aligned versions of s and t.\n",
        "\n",
        "* Our function delivers three results: the edit distance and the aligned versions of s and t.\n",
        "\n",
        "\n",
        "### Scoring scheme\n",
        "\n",
        "*   Match : + 1\n",
        "*   Mismatch : -1\n",
        "*   Gap : -2"
      ],
      "metadata": {
        "id": "INViR7WeGD8H"
      }
    },
    {
      "cell_type": "markdown",
      "source": [
        "\n",
        "\n",
        "---\n",
        "\n"
      ],
      "metadata": {
        "id": "oKCaBQpVMSTr"
      }
    }
  ]
}