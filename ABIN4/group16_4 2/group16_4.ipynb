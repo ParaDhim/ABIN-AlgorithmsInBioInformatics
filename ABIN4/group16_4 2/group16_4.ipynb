{
  "nbformat": 4,
  "nbformat_minor": 0,
  "metadata": {
    "colab": {
      "provenance": []
    },
    "kernelspec": {
      "name": "python3",
      "display_name": "Python 3"
    },
    "language_info": {
      "name": "python"
    }
  },
  "cells": [
    {
      "cell_type": "markdown",
      "source": [
        "# ABIN Assignment 4\n",
        "## Group 16"
      ],
      "metadata": {
        "id": "0D5OrBdt16qo"
      }
    },
    {
      "cell_type": "markdown",
      "source": [
        "##Q3"
      ],
      "metadata": {
        "id": "uRKqTZ9H9Kq3"
      }
    },
    {
      "cell_type": "code",
      "source": [
        "def Q3(sequence, states, start_probability, transition_probability, emission_probability):\n",
        "    # Initialize matrices\n",
        "    T = len(sequence)\n",
        "    N = len(states)\n",
        "    V = [{} for _ in range(T)]\n",
        "    path = [{} for _ in range(T)]\n",
        "\n",
        "    # Initialization step\n",
        "    for state in states:\n",
        "        V[0][state] = start_probability[state] * emission_probability[state][sequence[0]]\n",
        "        path[0][state] = [state]\n",
        "\n",
        "    # Recursion step\n",
        "    for t in range(1, T):\n",
        "        new_path = {}\n",
        "\n",
        "        for state in states:\n",
        "            (prob, prev_state) = max(\n",
        "                (V[t - 1][prev_state] * transition_probability[prev_state][state] *\n",
        "                 emission_probability[state][sequence[t]], prev_state)\n",
        "                for prev_state in states\n",
        "            )\n",
        "\n",
        "            V[t][state] = prob\n",
        "            new_path[state] = path[t - 1][prev_state] + [state]\n",
        "\n",
        "        path[t] = new_path\n",
        "\n",
        "    # Termination step\n",
        "    (prob, state) = max((V[T - 1][final_state], final_state) for final_state in states)\n",
        "\n",
        "    # Return the most likely sequence of states\n",
        "    return path[T - 1][state]"
      ],
      "metadata": {
        "id": "qtUje-Eko-yK"
      },
      "execution_count": 6,
      "outputs": []
    },
    {
      "cell_type": "markdown",
      "source": [
        "Code Explanation:\n",
        "\n",
        "The provided code defines a function `Q3` that implements the Viterbi algorithm for determining the most likely sequence of hidden states in a Hidden Markov Model (HMM) given a sequence of amino acids. The function takes several parameters, including the amino acid sequence, possible states, initial probabilities, transition probabilities between states, and emission probabilities for each state.\n",
        "\n",
        "The algorithm progresses through several steps:\n",
        "\n",
        "1. **Initialization (Matrices):**\n",
        "   - Sets up matrices to store probabilities (`V`) and paths (`path`) for each state at each observation.\n",
        "\n",
        "2. **Initialization Step:**\n",
        "   - Computes the initial probabilities for each state based on the emission probabilities of the first amino acid in the sequence.\n",
        "\n",
        "3. **Recursion Step:**\n",
        "   - Iterates through the observations, calculating the probability of the best path to each state at the current observation.\n",
        "   - Keeps track of the best path to each state.\n",
        "\n",
        "4. **Termination Step:**\n",
        "   - Identifies the state with the highest probability for the last observation, representing the most likely final state.\n",
        "\n",
        "5. **Backtracking to Find the Most Likely Sequence:**\n",
        "   - Traces back through the stored paths to determine the most likely sequence of states.\n",
        "\n",
        "6. **Return the Result:**\n",
        "   - Returns the computed most likely sequence of states for the entire observation sequence.\n",
        "\n",
        "In summary, the function utilizes the Viterbi algorithm to predict the protein's secondary structure elements based on the observed amino acid sequence, incorporating probabilities of state transitions and emissions."
      ],
      "metadata": {
        "id": "Ah5GzVum9PXZ"
      }
    },
    {
      "cell_type": "markdown",
      "source": [
        "Input"
      ],
      "metadata": {
        "id": "ZIMEUM_J9HkK"
      }
    },
    {
      "cell_type": "code",
      "source": [
        "sequence = \"ACDE\"\n",
        "states = ['Alpha-helix', 'Beta-sheet', 'Coil']\n",
        "start_probability = {'Alpha-helix': 0.6, 'Beta-sheet': 0.3, 'Coil': 0.1}\n",
        "transition_probability = {\n",
        "    'Alpha-helix': {'Alpha-helix': 0.5, 'Beta-sheet': 0.2, 'Coil': 0.3},\n",
        "    'Beta-sheet': {'Alpha-helix': 0.3, 'Beta-sheet': 0.5, 'Coil': 0.2},\n",
        "    'Coil': {'Alpha-helix': 0.2, 'Beta-sheet': 0.3, 'Coil': 0.5}\n",
        "}\n",
        "emission_probability = {\n",
        "    'Alpha-helix': {'A': 0.2, 'C': 0.3, 'D': 0.3, 'E': 0.2},\n",
        "    'Beta-sheet': {'A': 0.1, 'C': 0.4, 'D': 0.3, 'E': 0.2},\n",
        "    'Coil': {'A': 0.3, 'C': 0.2, 'D': 0.2, 'E': 0.3}\n",
        "}"
      ],
      "metadata": {
        "id": "53Sctp0m88Ky"
      },
      "execution_count": 7,
      "outputs": []
    },
    {
      "cell_type": "markdown",
      "source": [
        "Output"
      ],
      "metadata": {
        "id": "EocF-5pK9Izz"
      }
    },
    {
      "cell_type": "code",
      "source": [
        "output = Q3(sequence, states, start_probability, transition_probability, emission_probability)\n",
        "print(\"Most likely sequence of states:\", output)"
      ],
      "metadata": {
        "colab": {
          "base_uri": "https://localhost:8080/",
          "height": 0
        },
        "id": "NIPnGq3T8-Pe",
        "outputId": "fd3cae0f-54f9-4a59-9adb-5e705b544180"
      },
      "execution_count": 8,
      "outputs": [
        {
          "output_type": "stream",
          "name": "stdout",
          "text": [
            "Most likely sequence of states: ['Alpha-helix', 'Alpha-helix', 'Alpha-helix', 'Alpha-helix']\n"
          ]
        }
      ]
    }
  ]
}