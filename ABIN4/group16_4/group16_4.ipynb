{
  "nbformat": 4,
  "nbformat_minor": 0,
  "metadata": {
    "colab": {
      "provenance": []
    },
    "kernelspec": {
      "name": "python3",
      "display_name": "Python 3"
    },
    "language_info": {
      "name": "python"
    }
  },
  "cells": [
    {
      "cell_type": "markdown",
      "source": [
        "# ABIN Assignment 4\n",
        "## Group 16"
      ],
      "metadata": {
        "id": "0D5OrBdt16qo"
      }
    },
    {
      "cell_type": "markdown",
      "source": [
        "## Q1"
      ],
      "metadata": {
        "id": "9ZiXIVzx2B6l"
      }
    },
    {
      "cell_type": "markdown",
      "source": [
        "### Defining function"
      ],
      "metadata": {
        "id": "Z0EehEoT2F8n"
      }
    },
    {
      "cell_type": "code",
      "execution_count": 33,
      "metadata": {
        "id": "PHvEzcPib6I8"
      },
      "outputs": [],
      "source": [
        "def Q1(observations, states, start_p, trans_p, emit_p):\n",
        "    V = [{}]\n",
        "    path = {}\n",
        "\n",
        "    # base case\n",
        "    for state in states:\n",
        "        V[0][state] = start_p[state] * emit_p[state][observations[0]]\n",
        "        path[state] = [state]\n",
        "\n",
        "    # forward pass\n",
        "    for t in range(1, len(observations)):\n",
        "        V.append({})\n",
        "        new_path = {}\n",
        "\n",
        "        for current_state in states:\n",
        "            (max_prob, prev_state) = max(\n",
        "                (V[t - 1][prev_state] * trans_p[prev_state][current_state] * emit_p[current_state][observations[t]], prev_state)\n",
        "                for prev_state in states\n",
        "            )\n",
        "            V[t][current_state] = max_prob\n",
        "            new_path[current_state] = path[prev_state] + [current_state]\n",
        "\n",
        "        path = new_path\n",
        "\n",
        "    # Backtrack for most probable hidden states\n",
        "    (max_prob, best_path) = max((V[len(observations) - 1][final_state], path[final_state]) for final_state in states)\n",
        "\n",
        "    # probabilities of hidden states for each step\n",
        "    state_probabilities = {}\n",
        "    for t in range(len(observations)):\n",
        "        state_probabilities[t + 1] = {}\n",
        "        for state in states:\n",
        "            state_probabilities[t + 1][state] = V[t][state]\n",
        "\n",
        "    return state_probabilities, max_prob, best_path"
      ]
    },
    {
      "cell_type": "markdown",
      "source": [
        "### Code explanation:\n",
        "\n",
        "This function performs the Viterbi algorithm to find the most likely sequence of hidden states that could have generated a given sequence of observations.\n",
        "\n",
        "**Step 1: Initialization**\n",
        "\n",
        "Create an empty list V to store the trellis table.\n",
        "Create an empty dictionary path to store the backpointers.\n",
        "For each state, calculate the initial probability V[0][state] and store the corresponding state in path[state].\n",
        "\n",
        "**Step 2: Forward Pass**\n",
        "\n",
        "Iterate over the observations from index 1 to the end.\n",
        "For each state at the current time step, compute the maximum probability of reaching that state from any of the states at the previous time step.\n",
        "Store the maximum probability in V[t][current_state] and the corresponding backpointer in path[current_state].\n",
        "\n",
        "**Step 3: Backtracking**\n",
        "\n",
        "Find the most probable final state and its corresponding probability.\n",
        "Backtrack through the path dictionary to recover the most likely sequence of hidden states.\n",
        "\n",
        "**Step 4: Calculate State Probabilities**\n",
        "\n",
        "For each time step, calculate the probability of each state using the values in the trellis table V.\n",
        "\n",
        "**Step 5: Return Results**\n",
        "\n",
        "Return the state probabilities, the maximum probability of the most likely path, and the most likely path itself."
      ],
      "metadata": {
        "id": "DA_T2sb02_pD"
      }
    },
    {
      "cell_type": "markdown",
      "source": [
        "### Input"
      ],
      "metadata": {
        "id": "bURI2rOW2Lgr"
      }
    },
    {
      "cell_type": "code",
      "source": [
        "observations = (\"normal\", \"cold\", \"dizzy\")\n",
        "states = (\"Healthy\", \"Fever\")\n",
        "start_p = {\"Healthy\": 0.6, \"Fever\": 0.4}\n",
        "trans_p = {\n",
        "    \"Healthy\": {\"Healthy\": 0.7, \"Fever\": 0.3},\n",
        "    \"Fever\": {\"Healthy\": 0.4, \"Fever\": 0.6},\n",
        "}\n",
        "emit_p = {\n",
        "    \"Healthy\": {\"normal\": 0.5, \"cold\": 0.4, \"dizzy\": 0.1},\n",
        "    \"Fever\": {\"normal\": 0.1, \"cold\": 0.3, \"dizzy\": 0.6},\n",
        "}"
      ],
      "metadata": {
        "id": "Y0m3AKRS2NKV"
      },
      "execution_count": 34,
      "outputs": []
    },
    {
      "cell_type": "markdown",
      "source": [
        "### Output"
      ],
      "metadata": {
        "id": "WUhr_tXe2NkI"
      }
    },
    {
      "cell_type": "code",
      "source": [
        "output = Q1(observations, states, start_p, trans_p, emit_p)\n",
        "\n",
        "state_probabilities = output[0]\n",
        "max_prob = output[1]\n",
        "best_path = output[2]\n",
        "\n",
        "for t in state_probabilities:\n",
        "  print(f\"Step {t} State Probabilities: {state_probabilities[t]}\")\n",
        "\n",
        "print()\n",
        "print(f\"Highest Probability at Step 3: {max_prob}\")\n",
        "\n",
        "print()\n",
        "print(\"Most Probable Hidden States:\", best_path)"
      ],
      "metadata": {
        "colab": {
          "base_uri": "https://localhost:8080/",
          "height": 0
        },
        "id": "fI0oFk1K2OgH",
        "outputId": "c0085017-a834-4afb-e83d-79563fd0c36c"
      },
      "execution_count": 35,
      "outputs": [
        {
          "output_type": "stream",
          "name": "stdout",
          "text": [
            "Step 1 State Probabilities: {'Healthy': 0.3, 'Fever': 0.04000000000000001}\n",
            "Step 2 State Probabilities: {'Healthy': 0.084, 'Fever': 0.027}\n",
            "Step 3 State Probabilities: {'Healthy': 0.00588, 'Fever': 0.01512}\n",
            "\n",
            "Highest Probability at Step 3: 0.01512\n",
            "\n",
            "Most Probable Hidden States: ['Healthy', 'Healthy', 'Fever']\n"
          ]
        }
      ]
    },
    {
      "cell_type": "markdown",
      "source": [
        "## Q2"
      ],
      "metadata": {
        "id": "Qq2ZiqfH37vy"
      }
    },
    {
      "cell_type": "markdown",
      "source": [
        "### Defining function"
      ],
      "metadata": {
        "id": "HOQLEpx-4Fxd"
      }
    },
    {
      "cell_type": "code",
      "source": [
        "def Q2(x, states, transition, emission):\n",
        "    n = len(x)\n",
        "    m = len(states)\n",
        "\n",
        "    # Initialize the probabilities matrix\n",
        "    forward = [[0.0] * m for _ in range(n)]\n",
        "\n",
        "    # Initialize the initial probabilities\n",
        "    for i, state in enumerate(states):\n",
        "        forward[0][i] = 1.0 / m * emission[state][x[0]]\n",
        "\n",
        "    # Calculate forward probabilities\n",
        "    for t in range(1, n):\n",
        "        for j, state_to in enumerate(states):\n",
        "            forward[t][j] = sum(forward[t - 1][i] * transition[states[i]][state_to] * emission[state_to][x[t]] for i in range(m))\n",
        "\n",
        "    # Sum the final forward probabilities\n",
        "    pr_x = sum(forward[n - 1])\n",
        "\n",
        "    return pr_x"
      ],
      "metadata": {
        "id": "nOYM3yCuhFIT"
      },
      "execution_count": 36,
      "outputs": []
    },
    {
      "cell_type": "markdown",
      "source": [
        "### Code explanation:\n",
        "\n",
        "**Step 1: Initialization**\n",
        "\n",
        "Initialize a matrix forward to store the forward probabilities.\n",
        "Initialize the initial probabilities in the forward matrix.\n",
        "\n",
        "**Step 2: Calculate Forward Probabilities**\n",
        "\n",
        "For each time step, iterate over the possible hidden states at that time step.\n",
        "For each state at the current time step, calculate the sum of the products of the forward probabilities at the previous time step, the transition probabilities from the previous states to the current state, and the emission probabilities of the current state given the observation at the current time step.\n",
        "Store the calculated probability in the forward matrix.\n",
        "\n",
        "**Step 3: Calculate Final Probability**\n",
        "\n",
        "Sum the final forward probabilities to obtain the probability of the entire sequence of observations.\n",
        "\n",
        "**Step 4: Return Result**\n",
        "\n",
        "Return the calculated probability pr_x.\n"
      ],
      "metadata": {
        "id": "lbFmL8Eg4JVY"
      }
    },
    {
      "cell_type": "markdown",
      "source": [
        "### Input"
      ],
      "metadata": {
        "id": "9JqDKMrM4MJH"
      }
    },
    {
      "cell_type": "code",
      "source": [
        "x = \"xzyyzzyzyy\"\n",
        "alphabet = \"xyz\"\n",
        "states = \"AB\"\n",
        "transition = {\n",
        "    'A': {'A': 0.303, 'B': 0.697},\n",
        "    'B': {'A': 0.831, 'B': 0.169}\n",
        "}\n",
        "emission = {\n",
        "    'A': {'x': 0.533, 'y': 0.065, 'z': 0.402},\n",
        "    'B': {'x': 0.342, 'y': 0.334, 'z': 0.324}\n",
        "}"
      ],
      "metadata": {
        "id": "dp1gyn5H4Mrq"
      },
      "execution_count": 37,
      "outputs": []
    },
    {
      "cell_type": "markdown",
      "source": [
        "### Output"
      ],
      "metadata": {
        "id": "tfhFCtcC4RFg"
      }
    },
    {
      "cell_type": "code",
      "source": [
        "probability = Q2(x, states, transition, emission)\n",
        "print(probability)"
      ],
      "metadata": {
        "colab": {
          "base_uri": "https://localhost:8080/",
          "height": 0
        },
        "id": "cB1964yv4Rog",
        "outputId": "a6024caa-88b2-40f2-c9f5-53b4376b7c7d"
      },
      "execution_count": 38,
      "outputs": [
        {
          "output_type": "stream",
          "name": "stdout",
          "text": [
            "1.1005510319694851e-06\n"
          ]
        }
      ]
    }
  ]
}